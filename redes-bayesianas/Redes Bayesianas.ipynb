{
 "cells": [
  {
   "cell_type": "code",
   "execution_count": 1,
   "id": "342a20c2",
   "metadata": {},
   "outputs": [],
   "source": [
    "import pandas as pd\n",
    "from pgmpy.models import BayesianNetwork\n",
    "from pgmpy.estimators import MaximumLikelihoodEstimator\n",
    "from pgmpy.inference import VariableElimination\n",
    "from sklearn.model_selection import train_test_split\n",
    "from sklearn.preprocessing import LabelEncoder\n",
    "from sklearn.metrics import confusion_matrix, classification_report\n",
    "import matplotlib.pyplot as plt\n",
    "import seaborn as sns"
   ]
  },
  {
   "cell_type": "code",
   "execution_count": 2,
   "id": "d03f703c",
   "metadata": {},
   "outputs": [],
   "source": [
    "# 1. Carregar os dados\n",
    "data = pd.read_csv('heart_disease.csv')"
   ]
  },
  {
   "cell_type": "code",
   "execution_count": 3,
   "id": "d40da720",
   "metadata": {},
   "outputs": [
    {
     "data": {
      "text/html": [
       "<div>\n",
       "<style scoped>\n",
       "    .dataframe tbody tr th:only-of-type {\n",
       "        vertical-align: middle;\n",
       "    }\n",
       "\n",
       "    .dataframe tbody tr th {\n",
       "        vertical-align: top;\n",
       "    }\n",
       "\n",
       "    .dataframe thead th {\n",
       "        text-align: right;\n",
       "    }\n",
       "</style>\n",
       "<table border=\"1\" class=\"dataframe\">\n",
       "  <thead>\n",
       "    <tr style=\"text-align: right;\">\n",
       "      <th></th>\n",
       "      <th>idade</th>\n",
       "      <th>pressao_repouso</th>\n",
       "      <th>colesterol</th>\n",
       "      <th>fc_maxima</th>\n",
       "      <th>depressao_st</th>\n",
       "      <th>target</th>\n",
       "    </tr>\n",
       "  </thead>\n",
       "  <tbody>\n",
       "    <tr>\n",
       "      <th>0</th>\n",
       "      <td>20-40</td>\n",
       "      <td>normal</td>\n",
       "      <td>limítrofe</td>\n",
       "      <td>baixa</td>\n",
       "      <td>nenhuma</td>\n",
       "      <td>0</td>\n",
       "    </tr>\n",
       "    <tr>\n",
       "      <th>1</th>\n",
       "      <td>20-40</td>\n",
       "      <td>normal</td>\n",
       "      <td>alto</td>\n",
       "      <td>alta</td>\n",
       "      <td>moderada</td>\n",
       "      <td>1</td>\n",
       "    </tr>\n",
       "    <tr>\n",
       "      <th>2</th>\n",
       "      <td>20-40</td>\n",
       "      <td>normal</td>\n",
       "      <td>normal</td>\n",
       "      <td>alta</td>\n",
       "      <td>nenhuma</td>\n",
       "      <td>0</td>\n",
       "    </tr>\n",
       "    <tr>\n",
       "      <th>3</th>\n",
       "      <td>60-80</td>\n",
       "      <td>alta</td>\n",
       "      <td>alto</td>\n",
       "      <td>alta</td>\n",
       "      <td>moderada</td>\n",
       "      <td>1</td>\n",
       "    </tr>\n",
       "    <tr>\n",
       "      <th>4</th>\n",
       "      <td>20-40</td>\n",
       "      <td>alta</td>\n",
       "      <td>limítrofe</td>\n",
       "      <td>normal</td>\n",
       "      <td>nenhuma</td>\n",
       "      <td>0</td>\n",
       "    </tr>\n",
       "  </tbody>\n",
       "</table>\n",
       "</div>"
      ],
      "text/plain": [
       "   idade pressao_repouso colesterol fc_maxima depressao_st  target\n",
       "0  20-40          normal  limítrofe     baixa      nenhuma       0\n",
       "1  20-40          normal       alto      alta     moderada       1\n",
       "2  20-40          normal     normal      alta      nenhuma       0\n",
       "3  60-80            alta       alto      alta     moderada       1\n",
       "4  20-40            alta  limítrofe    normal      nenhuma       0"
      ]
     },
     "execution_count": 3,
     "metadata": {},
     "output_type": "execute_result"
    }
   ],
   "source": [
    "data.head()"
   ]
  },
  {
   "cell_type": "code",
   "execution_count": 4,
   "id": "318fa4ca",
   "metadata": {},
   "outputs": [],
   "source": [
    "# 2. Converter variáveis categóricas para numéricas\n",
    "label_encoders = {}\n",
    "label_mappings = {}\n",
    "\n",
    "for col in data.columns:\n",
    "    if data[col].dtype == 'object':\n",
    "        le = LabelEncoder()\n",
    "        data[col] = le.fit_transform(data[col])\n",
    "        label_encoders[col] = le\n",
    "        label_mappings[col] = dict(zip(le.classes_, le.transform(le.classes_)))"
   ]
  },
  {
   "cell_type": "code",
   "execution_count": 5,
   "id": "afcac411",
   "metadata": {},
   "outputs": [
    {
     "data": {
      "text/html": [
       "<div>\n",
       "<style scoped>\n",
       "    .dataframe tbody tr th:only-of-type {\n",
       "        vertical-align: middle;\n",
       "    }\n",
       "\n",
       "    .dataframe tbody tr th {\n",
       "        vertical-align: top;\n",
       "    }\n",
       "\n",
       "    .dataframe thead th {\n",
       "        text-align: right;\n",
       "    }\n",
       "</style>\n",
       "<table border=\"1\" class=\"dataframe\">\n",
       "  <thead>\n",
       "    <tr style=\"text-align: right;\">\n",
       "      <th></th>\n",
       "      <th>idade</th>\n",
       "      <th>pressao_repouso</th>\n",
       "      <th>colesterol</th>\n",
       "      <th>fc_maxima</th>\n",
       "      <th>depressao_st</th>\n",
       "      <th>target</th>\n",
       "    </tr>\n",
       "  </thead>\n",
       "  <tbody>\n",
       "    <tr>\n",
       "      <th>0</th>\n",
       "      <td>0</td>\n",
       "      <td>2</td>\n",
       "      <td>1</td>\n",
       "      <td>1</td>\n",
       "      <td>2</td>\n",
       "      <td>0</td>\n",
       "    </tr>\n",
       "    <tr>\n",
       "      <th>1</th>\n",
       "      <td>0</td>\n",
       "      <td>2</td>\n",
       "      <td>0</td>\n",
       "      <td>0</td>\n",
       "      <td>1</td>\n",
       "      <td>1</td>\n",
       "    </tr>\n",
       "    <tr>\n",
       "      <th>2</th>\n",
       "      <td>0</td>\n",
       "      <td>2</td>\n",
       "      <td>2</td>\n",
       "      <td>0</td>\n",
       "      <td>2</td>\n",
       "      <td>0</td>\n",
       "    </tr>\n",
       "    <tr>\n",
       "      <th>3</th>\n",
       "      <td>2</td>\n",
       "      <td>0</td>\n",
       "      <td>0</td>\n",
       "      <td>0</td>\n",
       "      <td>1</td>\n",
       "      <td>1</td>\n",
       "    </tr>\n",
       "    <tr>\n",
       "      <th>4</th>\n",
       "      <td>0</td>\n",
       "      <td>0</td>\n",
       "      <td>1</td>\n",
       "      <td>2</td>\n",
       "      <td>2</td>\n",
       "      <td>0</td>\n",
       "    </tr>\n",
       "  </tbody>\n",
       "</table>\n",
       "</div>"
      ],
      "text/plain": [
       "   idade  pressao_repouso  colesterol  fc_maxima  depressao_st  target\n",
       "0      0                2           1          1             2       0\n",
       "1      0                2           0          0             1       1\n",
       "2      0                2           2          0             2       0\n",
       "3      2                0           0          0             1       1\n",
       "4      0                0           1          2             2       0"
      ]
     },
     "execution_count": 5,
     "metadata": {},
     "output_type": "execute_result"
    }
   ],
   "source": [
    "data.head()"
   ]
  },
  {
   "cell_type": "code",
   "execution_count": 6,
   "id": "309ffca2",
   "metadata": {},
   "outputs": [
    {
     "name": "stdout",
     "output_type": "stream",
     "text": [
      "\n",
      "=== MAPEAMENTO DE CATEGORIAS ===\n",
      "\n",
      "Variável: idade\n",
      "------------------------------\n",
      "20-40           → 0\n",
      "40-60           → 1\n",
      "60-80           → 2\n",
      "\n",
      "Variável: pressao_repouso\n",
      "------------------------------\n",
      "alta            → 0\n",
      "elevada         → 1\n",
      "normal          → 2\n",
      "\n",
      "Variável: colesterol\n",
      "------------------------------\n",
      "alto            → 0\n",
      "limítrofe       → 1\n",
      "normal          → 2\n",
      "\n",
      "Variável: fc_maxima\n",
      "------------------------------\n",
      "alta            → 0\n",
      "baixa           → 1\n",
      "normal          → 2\n",
      "\n",
      "Variável: depressao_st\n",
      "------------------------------\n",
      "leve            → 0\n",
      "moderada        → 1\n",
      "nenhuma         → 2\n"
     ]
    }
   ],
   "source": [
    "# Exibir mapeamento de categorias\n",
    "print(\"\\n=== MAPEAMENTO DE CATEGORIAS ===\")\n",
    "for col, mapping in label_mappings.items():\n",
    "    print(f\"\\nVariável: {col}\")\n",
    "    print(\"-\" * 30)\n",
    "    for categoria, codigo in sorted(mapping.items(), key=lambda x: x[1]):\n",
    "        print(f\"{categoria.ljust(15)} → {codigo}\")"
   ]
  },
  {
   "cell_type": "code",
   "execution_count": 7,
   "id": "8461149a",
   "metadata": {},
   "outputs": [],
   "source": [
    "# 3. Dividir em treino e teste\n",
    "train_data, test_data = train_test_split(data, test_size=0.3, random_state=42)"
   ]
  },
  {
   "cell_type": "code",
   "execution_count": 8,
   "id": "873e6d81",
   "metadata": {},
   "outputs": [],
   "source": [
    "# 4. Definir estrutura da rede\n",
    "model = BayesianNetwork([\n",
    "    ('idade', 'pressao_repouso'),\n",
    "    ('idade', 'colesterol'),\n",
    "    ('pressao_repouso', 'target'),\n",
    "    ('colesterol', 'target'),\n",
    "    ('fc_maxima', 'target'),\n",
    "    ('depressao_st', 'target')\n",
    "])\n"
   ]
  },
  {
   "cell_type": "code",
   "execution_count": 9,
   "id": "68ebcd6d",
   "metadata": {},
   "outputs": [],
   "source": [
    "# 5. Treinar o modelo\n",
    "model.fit(train_data, estimator=MaximumLikelihoodEstimator)"
   ]
  },
  {
   "cell_type": "code",
   "execution_count": 10,
   "id": "5e852dc4",
   "metadata": {},
   "outputs": [],
   "source": [
    "# 6. Fazer inferência\n",
    "inference = VariableElimination(model)"
   ]
  },
  {
   "cell_type": "code",
   "execution_count": 11,
   "id": "44baaf21",
   "metadata": {},
   "outputs": [
    {
     "name": "stdout",
     "output_type": "stream",
     "text": [
      "\n",
      "Distribuição real para casos similares:\n",
      "1    1.0\n",
      "Name: target, dtype: float64\n"
     ]
    }
   ],
   "source": [
    "# 7. Verificar distribuição real para casos similares\n",
    "print(\"\\nDistribuição real para casos similares:\")\n",
    "sample_case_filter = (\n",
    "    (data['idade'] == label_mappings['idade']['20-40']) & \n",
    "    (data['pressao_repouso'] == label_mappings['pressao_repouso']['normal']) &\n",
    "    (data['colesterol'] == label_mappings['colesterol']['normal']) &\n",
    "    (data['fc_maxima'] == label_mappings['fc_maxima']['normal']) &\n",
    "    (data['depressao_st'] == label_mappings['depressao_st']['moderada'])\n",
    ")\n",
    "\n",
    "similar_cases = data[sample_case_filter]\n",
    "print(similar_cases['target'].value_counts(normalize=True))"
   ]
  },
  {
   "cell_type": "code",
   "execution_count": 12,
   "id": "5df9abdb",
   "metadata": {},
   "outputs": [
    {
     "name": "stdout",
     "output_type": "stream",
     "text": [
      "\n",
      "Testando diferentes casos:\n",
      "\n",
      "Caso jovem saudável:\n",
      "Probabilidade de doença cardíaca: 0.00%\n",
      "Valores usados:\n",
      "  idade: 20-40 (codificado como 0)\n",
      "  pressao_repouso: normal (codificado como 2)\n",
      "  colesterol: normal (codificado como 2)\n",
      "  fc_maxima: normal (codificado como 2)\n",
      "  depressao_st: nenhuma (codificado como 2)\n",
      "\n",
      "Caso risco moderado:\n",
      "Probabilidade de doença cardíaca: 25.00%\n",
      "Valores usados:\n",
      "  idade: 40-60 (codificado como 1)\n",
      "  pressao_repouso: alta (codificado como 0)\n",
      "  colesterol: limítrofe (codificado como 1)\n",
      "  fc_maxima: normal (codificado como 2)\n",
      "  depressao_st: leve (codificado como 0)\n",
      "\n",
      "Caso alto risco:\n",
      "Probabilidade de doença cardíaca: 100.00%\n",
      "Valores usados:\n",
      "  idade: 60-80 (codificado como 2)\n",
      "  pressao_repouso: alta (codificado como 0)\n",
      "  colesterol: alto (codificado como 0)\n",
      "  fc_maxima: alta (codificado como 0)\n",
      "  depressao_st: moderada (codificado como 1)\n"
     ]
    }
   ],
   "source": [
    "# 8. Testar diferentes casos\n",
    "test_cases = [\n",
    "    {\n",
    "        'description': \"Caso jovem saudável\",\n",
    "        'idade': '20-40',\n",
    "        'pressao_repouso': 'normal',\n",
    "        'colesterol': 'normal',\n",
    "        'fc_maxima': 'normal',\n",
    "        'depressao_st': 'nenhuma'\n",
    "    },\n",
    "    {\n",
    "        'description': \"Caso risco moderado\",\n",
    "        'idade': '40-60',\n",
    "        'pressao_repouso': 'alta',\n",
    "        'colesterol': 'limítrofe',\n",
    "        'fc_maxima': 'normal',\n",
    "        'depressao_st': 'leve'\n",
    "    },\n",
    "    {\n",
    "        'description': \"Caso alto risco\",\n",
    "        'idade': '60-80',\n",
    "        'pressao_repouso': 'alta',\n",
    "        'colesterol': 'alto',\n",
    "        'fc_maxima': 'alta',\n",
    "        'depressao_st': 'moderada'\n",
    "    }\n",
    "]\n",
    "\n",
    "print(\"\\nTestando diferentes casos:\")\n",
    "for case in test_cases:\n",
    "    # Converter para valores codificados\n",
    "    encoded_case = {\n",
    "        'idade': label_mappings['idade'][case['idade']],\n",
    "        'pressao_repouso': label_mappings['pressao_repouso'][case['pressao_repouso']],\n",
    "        'colesterol': label_mappings['colesterol'][case['colesterol']],\n",
    "        'fc_maxima': label_mappings['fc_maxima'][case['fc_maxima']],\n",
    "        'depressao_st': label_mappings['depressao_st'][case['depressao_st']]\n",
    "    }\n",
    "    \n",
    "    #faz a inferência (consulta) na rede bayesiana e retorna com as probabilidades para cada classe de target\n",
    "    prob = inference.query(variables=['target'], evidence=encoded_case)\n",
    "    print(f\"\\n{case['description']}:\")\n",
    "    print(f\"Probabilidade de doença cardíaca: {prob.values[1]*100:.2f}%\")\n",
    "    print(\"Valores usados:\")\n",
    "    for k, v in case.items():\n",
    "        if k != 'description':\n",
    "            print(f\"  {k}: {v} (codificado como {encoded_case[k]})\")"
   ]
  },
  {
   "cell_type": "code",
   "execution_count": 13,
   "id": "068c3674",
   "metadata": {},
   "outputs": [
    {
     "name": "stdout",
     "output_type": "stream",
     "text": [
      "\n",
      "Relatório de Classificação:\n",
      "              precision    recall  f1-score   support\n",
      "\n",
      "  Sem doença       0.91      0.97      0.94       162\n",
      "  Com doença       0.97      0.90      0.94       168\n",
      "\n",
      "    accuracy                           0.94       330\n",
      "   macro avg       0.94      0.94      0.94       330\n",
      "weighted avg       0.94      0.94      0.94       330\n",
      "\n"
     ]
    },
    {
     "data": {
      "image/png": "[encoded data removed]",
      "text/plain": [
       "<Figure size 600x400 with 2 Axes>"
      ]
     },
     "metadata": {},
     "output_type": "display_data"
    }
   ],
   "source": [
    "# 9. Avaliar o modelo\n",
    "X_test = test_data.drop('target', axis=1)\n",
    "y_test = test_data['target']\n",
    "\n",
    "\n",
    "#função que faz previsões usando o modelo treinado: itera, consulta e seleciona a classe com maior probabilidade \n",
    "def predict(model, data):\n",
    "    predictions = []\n",
    "    for _, sample in data.iterrows():\n",
    "        evidence = sample.to_dict()\n",
    "        prob = inference.query(variables=['target'], evidence=evidence)\n",
    "        predictions.append(prob.values.argmax())\n",
    "    return predictions\n",
    "\n",
    "y_pred = predict(model, X_test)\n",
    "\n",
    "\n",
    "print(\"\\nRelatório de Classificação:\")\n",
    "#Gera métricas de avaliação detalhadas\n",
    "print(classification_report(y_test, y_pred, target_names=['Sem doença', 'Com doença']))\n",
    "#precisão, sensibilidade, média harmonica entre precisão e recall e numero de ocorrencias em cada classe\n",
    "\n",
    "\n",
    "\n",
    "# Matriz de confusão\n",
    "cm = confusion_matrix(y_test, y_pred)\n",
    "plt.figure(figsize=(6, 4))\n",
    "sns.heatmap(cm, annot=True, fmt='d', cmap='Blues',\n",
    "            xticklabels=['Sem doença', 'Com doença'],\n",
    "            yticklabels=['Sem doença', 'Com doença'])\n",
    "plt.xlabel('Predito')\n",
    "plt.ylabel('Verdadeiro')\n",
    "plt.title('Matriz de Confusão')\n",
    "plt.show()"
   ]
  },
  {
   "cell_type": "code",
   "execution_count": 14,
   "id": "e68f7df9",
   "metadata": {},
   "outputs": [],
   "source": [
    "# testes"
   ]
  },
  {
   "cell_type": "code",
   "execution_count": 15,
   "id": "72b551db",
   "metadata": {},
   "outputs": [
    {
     "name": "stdout",
     "output_type": "stream",
     "text": [
      "\n",
      "Exemplo de inferência para um novo caso:\n",
      "(Consulte o mapeamento acima para entender os valores codificados)\n",
      "Probabilidade de doença cardíaca: 45.45%\n"
     ]
    }
   ],
   "source": [
    "print(\"\\nExemplo de inferência para um novo caso:\")\n",
    "print(\"(Consulte o mapeamento acima para entender os valores codificados)\")\n",
    "\n",
    "sample_case = {\n",
    "    'idade': label_mappings['idade']['40-60'], \n",
    "    'pressao_repouso': label_mappings['pressao_repouso']['alta'],\n",
    "    'colesterol': label_mappings['colesterol']['alto'],\n",
    "    'fc_maxima': label_mappings['fc_maxima']['normal'],\n",
    "    'depressao_st': label_mappings['depressao_st']['nenhuma']\n",
    "}\n",
    "\n",
    "prob = inference.query(variables=['target'], evidence=sample_case)\n",
    "print(f\"Probabilidade de doença cardíaca: {prob.values[1]*100:.2f}%\")"
   ]
  },
  {
   "cell_type": "code",
   "execution_count": null,
   "id": "c0bb98da",
   "metadata": {},
   "outputs": [],
   "source": []
  }
 ],
 "metadata": {
  "kernelspec": {
   "display_name": "Python 3 (ipykernel)",
   "language": "python",
   "name": "python3"
  },
  "language_info": {
   "codemirror_mode": {
    "name": "ipython",
    "version": 3
   },
   "file_extension": ".py",
   "mimetype": "text/x-python",
   "name": "python",
   "nbconvert_exporter": "python",
   "pygments_lexer": "ipython3",
   "version": "3.9.13"
  }
 },
 "nbformat": 4,
 "nbformat_minor": 5
}
